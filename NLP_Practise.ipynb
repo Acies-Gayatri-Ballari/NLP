{
  "nbformat": 4,
  "nbformat_minor": 0,
  "metadata": {
    "colab": {
      "provenance": []
    },
    "kernelspec": {
      "name": "python3",
      "display_name": "Python 3"
    },
    "language_info": {
      "name": "python"
    }
  },
  "cells": [
    {
      "cell_type": "code",
      "execution_count": 27,
      "metadata": {
        "colab": {
          "base_uri": "https://localhost:8080/"
        },
        "id": "B2BgqtSR7MtG",
        "outputId": "13a374dd-fe08-48a6-d989-d0f5bd6c5d21"
      },
      "outputs": [
        {
          "output_type": "stream",
          "name": "stdout",
          "text": [
            "Requirement already satisfied: transformers in /usr/local/lib/python3.10/dist-packages (4.42.4)\n",
            "Requirement already satisfied: datasets in /usr/local/lib/python3.10/dist-packages (2.20.0)\n",
            "Requirement already satisfied: tokenizers in /usr/local/lib/python3.10/dist-packages (0.19.1)\n",
            "Requirement already satisfied: pandas in /usr/local/lib/python3.10/dist-packages (2.1.4)\n",
            "Requirement already satisfied: matplotlib in /usr/local/lib/python3.10/dist-packages (3.7.1)\n",
            "Requirement already satisfied: filelock in /usr/local/lib/python3.10/dist-packages (from transformers) (3.15.4)\n",
            "Requirement already satisfied: huggingface-hub<1.0,>=0.23.2 in /usr/local/lib/python3.10/dist-packages (from transformers) (0.23.5)\n",
            "Requirement already satisfied: numpy<2.0,>=1.17 in /usr/local/lib/python3.10/dist-packages (from transformers) (1.26.4)\n",
            "Requirement already satisfied: packaging>=20.0 in /usr/local/lib/python3.10/dist-packages (from transformers) (24.1)\n",
            "Requirement already satisfied: pyyaml>=5.1 in /usr/local/lib/python3.10/dist-packages (from transformers) (6.0.2)\n",
            "Requirement already satisfied: regex!=2019.12.17 in /usr/local/lib/python3.10/dist-packages (from transformers) (2024.5.15)\n",
            "Requirement already satisfied: requests in /usr/local/lib/python3.10/dist-packages (from transformers) (2.32.3)\n",
            "Requirement already satisfied: safetensors>=0.4.1 in /usr/local/lib/python3.10/dist-packages (from transformers) (0.4.4)\n",
            "Requirement already satisfied: tqdm>=4.27 in /usr/local/lib/python3.10/dist-packages (from transformers) (4.66.5)\n",
            "Requirement already satisfied: pyarrow>=15.0.0 in /usr/local/lib/python3.10/dist-packages (from datasets) (17.0.0)\n",
            "Requirement already satisfied: pyarrow-hotfix in /usr/local/lib/python3.10/dist-packages (from datasets) (0.6)\n",
            "Requirement already satisfied: dill<0.3.9,>=0.3.0 in /usr/local/lib/python3.10/dist-packages (from datasets) (0.3.8)\n",
            "Requirement already satisfied: xxhash in /usr/local/lib/python3.10/dist-packages (from datasets) (3.4.1)\n",
            "Requirement already satisfied: multiprocess in /usr/local/lib/python3.10/dist-packages (from datasets) (0.70.16)\n",
            "Requirement already satisfied: fsspec<=2024.5.0,>=2023.1.0 in /usr/local/lib/python3.10/dist-packages (from fsspec[http]<=2024.5.0,>=2023.1.0->datasets) (2024.5.0)\n",
            "Requirement already satisfied: aiohttp in /usr/local/lib/python3.10/dist-packages (from datasets) (3.10.1)\n",
            "Requirement already satisfied: python-dateutil>=2.8.2 in /usr/local/lib/python3.10/dist-packages (from pandas) (2.8.2)\n",
            "Requirement already satisfied: pytz>=2020.1 in /usr/local/lib/python3.10/dist-packages (from pandas) (2024.1)\n",
            "Requirement already satisfied: tzdata>=2022.1 in /usr/local/lib/python3.10/dist-packages (from pandas) (2024.1)\n",
            "Requirement already satisfied: contourpy>=1.0.1 in /usr/local/lib/python3.10/dist-packages (from matplotlib) (1.2.1)\n",
            "Requirement already satisfied: cycler>=0.10 in /usr/local/lib/python3.10/dist-packages (from matplotlib) (0.12.1)\n",
            "Requirement already satisfied: fonttools>=4.22.0 in /usr/local/lib/python3.10/dist-packages (from matplotlib) (4.53.1)\n",
            "Requirement already satisfied: kiwisolver>=1.0.1 in /usr/local/lib/python3.10/dist-packages (from matplotlib) (1.4.5)\n",
            "Requirement already satisfied: pillow>=6.2.0 in /usr/local/lib/python3.10/dist-packages (from matplotlib) (9.4.0)\n",
            "Requirement already satisfied: pyparsing>=2.3.1 in /usr/local/lib/python3.10/dist-packages (from matplotlib) (3.1.2)\n",
            "Requirement already satisfied: aiohappyeyeballs>=2.3.0 in /usr/local/lib/python3.10/dist-packages (from aiohttp->datasets) (2.3.4)\n",
            "Requirement already satisfied: aiosignal>=1.1.2 in /usr/local/lib/python3.10/dist-packages (from aiohttp->datasets) (1.3.1)\n",
            "Requirement already satisfied: attrs>=17.3.0 in /usr/local/lib/python3.10/dist-packages (from aiohttp->datasets) (24.2.0)\n",
            "Requirement already satisfied: frozenlist>=1.1.1 in /usr/local/lib/python3.10/dist-packages (from aiohttp->datasets) (1.4.1)\n",
            "Requirement already satisfied: multidict<7.0,>=4.5 in /usr/local/lib/python3.10/dist-packages (from aiohttp->datasets) (6.0.5)\n",
            "Requirement already satisfied: yarl<2.0,>=1.0 in /usr/local/lib/python3.10/dist-packages (from aiohttp->datasets) (1.9.4)\n",
            "Requirement already satisfied: async-timeout<5.0,>=4.0 in /usr/local/lib/python3.10/dist-packages (from aiohttp->datasets) (4.0.3)\n",
            "Requirement already satisfied: typing-extensions>=3.7.4.3 in /usr/local/lib/python3.10/dist-packages (from huggingface-hub<1.0,>=0.23.2->transformers) (4.12.2)\n",
            "Requirement already satisfied: six>=1.5 in /usr/local/lib/python3.10/dist-packages (from python-dateutil>=2.8.2->pandas) (1.16.0)\n",
            "Requirement already satisfied: charset-normalizer<4,>=2 in /usr/local/lib/python3.10/dist-packages (from requests->transformers) (3.3.2)\n",
            "Requirement already satisfied: idna<4,>=2.5 in /usr/local/lib/python3.10/dist-packages (from requests->transformers) (3.7)\n",
            "Requirement already satisfied: urllib3<3,>=1.21.1 in /usr/local/lib/python3.10/dist-packages (from requests->transformers) (2.0.7)\n",
            "Requirement already satisfied: certifi>=2017.4.17 in /usr/local/lib/python3.10/dist-packages (from requests->transformers) (2024.7.4)\n"
          ]
        }
      ],
      "source": [
        "pip install transformers datasets tokenizers pandas matplotlib\n"
      ]
    },
    {
      "cell_type": "code",
      "source": [
        "# Import the AutoTokenizer class from the transformers library\n",
        "# AutoTokenizer is a versatile tool that can automatically load the appropriate tokenizer for any pre-trained model from the Hugging Face Model Hub.\n",
        "from transformers import AutoTokenizer\n",
        "\n",
        "# Load a pre-trained tokenizer based on the BERT model (bert-base-uncased)\n",
        "# The \"bert-base-uncased\" tokenizer is trained to convert text into tokens that match the input format required by the BERT model.\n",
        "# \"Uncased\" means that the tokenizer does not distinguish between uppercase and lowercase letters.\n",
        "tokenizer = AutoTokenizer.from_pretrained(\"bert-base-uncased\")\n",
        "\n",
        "# Define a sample feedback string\n",
        "# This string simulates a typical piece of customer feedback, which includes sentiments about different aspects of a product or service.\n",
        "feedback = \"I’m really disappointed with the delivery time. The product quality was great, but the delay ruined my experience.\"\n",
        "\n",
        "# Tokenize the feedback string\n",
        "# Tokenization is the process of breaking down the text into smaller units called tokens.\n",
        "# Each token can be a word, subword, or punctuation mark.\n",
        "# The tokenizer uses the BERT model's tokenization rules to convert the input text into tokens.\n",
        "tokens = tokenizer.tokenize(feedback)\n",
        "\n",
        "# Print the resulting tokens\n",
        "# This will display the list of tokens generated by the tokenizer.\n",
        "# The output will show how the text has been broken down into individual tokens, including how contractions and punctuation are handled.\n",
        "print(\"Tokens:\", tokens)\n"
      ],
      "metadata": {
        "colab": {
          "base_uri": "https://localhost:8080/"
        },
        "id": "UP56uk5V7-o4",
        "outputId": "614429eb-e29b-4256-91de-4b9532cdc522"
      },
      "execution_count": 28,
      "outputs": [
        {
          "output_type": "stream",
          "name": "stdout",
          "text": [
            "Tokens: ['i', '’', 'm', 'really', 'disappointed', 'with', 'the', 'delivery', 'time', '.', 'the', 'product', 'quality', 'was', 'great', ',', 'but', 'the', 'delay', 'ruined', 'my', 'experience', '.']\n"
          ]
        }
      ]
    },
    {
      "cell_type": "code",
      "source": [
        "# Import the pipeline function from the transformers library\n",
        "# The pipeline function provides a simple way to use pre-trained models for various NLP tasks.\n",
        "from transformers import pipeline\n",
        "\n",
        "# Load a pre-trained sentiment analysis model using the pipeline function\n",
        "# By specifying \"sentiment-analysis\", the pipeline automatically loads a model that is fine-tuned for determining the sentiment of text (e.g., positive, negative).\n",
        "# This model is typically based on BERT or another Transformer model and is ready to use without further training.\n",
        "sentiment_analyzer = pipeline(\"sentiment-analysis\")\n",
        "\n",
        "# Analyze the sentiment of the feedback text\n",
        "# The sentiment_analyzer object is used to process the feedback string and determine its sentiment.\n",
        "# The model will output a label (e.g., \"POSITIVE\" or \"NEGATIVE\") and a confidence score for each label.\n",
        "sentiment = sentiment_analyzer(feedback)\n",
        "\n",
        "# Print the resulting sentiment analysis\n",
        "# The sentiment output is a list of dictionaries, where each dictionary contains the label (sentiment) and the model's confidence score.\n",
        "# The print statement will display this information, showing whether the feedback is classified as positive, negative, etc., along with how confident the model is in its prediction.\n",
        "print(\"Sentiment:\", sentiment)\n"
      ],
      "metadata": {
        "colab": {
          "base_uri": "https://localhost:8080/"
        },
        "id": "d0XKrV6x8JFM",
        "outputId": "33ec3923-ec82-4cf3-9512-10c82dbed40e"
      },
      "execution_count": 29,
      "outputs": [
        {
          "output_type": "stream",
          "name": "stderr",
          "text": [
            "No model was supplied, defaulted to distilbert/distilbert-base-uncased-finetuned-sst-2-english and revision af0f99b (https://huggingface.co/distilbert/distilbert-base-uncased-finetuned-sst-2-english).\n",
            "Using a pipeline without specifying a model name and revision in production is not recommended.\n"
          ]
        },
        {
          "output_type": "stream",
          "name": "stdout",
          "text": [
            "Sentiment: [{'label': 'NEGATIVE', 'score': 0.9996792078018188}]\n"
          ]
        }
      ]
    },
    {
      "cell_type": "code",
      "source": [
        "# Import the pipeline function from the transformers library\n",
        "# The pipeline function is a high-level API provided by the transformers library.\n",
        "# It simplifies the process of using pre-trained models for various NLP tasks, such as text classification, sentiment analysis, etc.\n",
        "from transformers import pipeline\n",
        "\n",
        "# Create a pipeline for text classification using a specific pre-trained model\n",
        "# The pipeline function is initialized with two parameters:\n",
        "# 1. \"text-classification\": Specifies the type of NLP task to be performed, which in this case is text classification.\n",
        "# 2. model=\"KareenaBeniwal/Fine-tuned-bert-model-classification\": Specifies the exact model to use for the task.\n",
        "#    The model is hosted on Hugging Face's Model Hub and is identified by the user name (\"KareenaBeniwal\") and model name (\"Fine-tuned-bert-model-classification\").\n",
        "#    This model has been fine-tuned specifically for a text classification task.\n",
        "pipe = pipeline(\"text-classification\", model=\"KareenaBeniwal/Fine-tuned-bert-model-classification\")\n"
      ],
      "metadata": {
        "id": "O3XnqMohg7d-"
      },
      "execution_count": 30,
      "outputs": []
    },
    {
      "cell_type": "code",
      "source": [
        "# Import the AutoTokenizer and AutoModelForSequenceClassification classes from the transformers library\n",
        "# AutoTokenizer is used to load the tokenizer associated with a pre-trained model, which converts text into tokens.\n",
        "# AutoModelForSequenceClassification is used to load the pre-trained model itself, specifically designed for sequence classification tasks.\n",
        "from transformers import AutoTokenizer, AutoModelForSequenceClassification\n",
        "\n",
        "# Load the tokenizer using the AutoTokenizer class\n",
        "# The tokenizer is responsible for converting input text into tokens (numerical format) that the model can understand.\n",
        "# The from_pretrained method loads a pre-trained tokenizer from the Hugging Face Model Hub.\n",
        "# \"KareenaBeniwal/Fine-tuned-bert-model-classification\" specifies the exact tokenizer to load, which has been fine-tuned for a specific task.\n",
        "tokenizer = AutoTokenizer.from_pretrained(\"KareenaBeniwal/Fine-tuned-bert-model-classification\")\n",
        "\n",
        "# Load the model using the AutoModelForSequenceClassification class\n",
        "# The model is responsible for making predictions based on the input tokens.\n",
        "# The from_pretrained method loads the pre-trained model from the Hugging Face Model Hub.\n",
        "# \"KareenaBeniwal/Fine-tuned-bert-model-classification\" specifies the exact model to load, which is fine-tuned for sequence classification tasks (e.g., text classification).\n",
        "model = AutoModelForSequenceClassification.from_pretrained(\"KareenaBeniwal/Fine-tuned-bert-model-classification\")\n"
      ],
      "metadata": {
        "id": "LtiEqyVKg7bQ"
      },
      "execution_count": 31,
      "outputs": []
    },
    {
      "cell_type": "code",
      "source": [
        "from transformers import AutoModelForSequenceClassification, AutoTokenizer\n",
        "from transformers import pipeline\n",
        "# Load a pre-trained tokenizer using the AutoTokenizer class\n",
        "# The tokenizer is responsible for converting input text into tokens that the model can process.\n",
        "# \"bert-base-uncased\" refers to the BERT model's tokenizer that lowercases the input text before tokenizing it.\\\n",
        "\n",
        "tokenizer = AutoTokenizer.from_pretrained(\"bert-base-uncased\")\n",
        "# Load a pre-trained model for sequence classification using the AutoModelForSequenceClassification class\n",
        "# The model has been fine-tuned specifically for a classification task.\n",
        "# \"KareenaBeniwal/Fine-tuned-bert-model-classification\" specifies the exact model to load from Hugging Face's Model Hub.\n",
        "model = AutoModelForSequenceClassification.from_pretrained(\"KareenaBeniwal/Fine-tuned-bert-model-classification\")\n",
        "\n",
        "# Create a pipeline for text classification\n",
        "# The pipeline function is used to create a classifier pipeline that ties together the model and tokenizer.\n",
        "# The pipeline is initialized with three arguments:\n",
        "# 1. \"text-classification\": Specifies the type of NLP task, which in this case is text classification.\n",
        "# 2. model=model: Specifies the pre-trained model to use for classification.\n",
        "# 3. tokenizer=tokenizer: Specifies the tokenizer to use for converting text into tokens.\n",
        "classifier = pipeline(\"text-classification\", model=model, tokenizer=tokenizer)\n",
        "\n",
        "# Classify the input feedback text using the classifier pipeline\n",
        "# The classifier object takes the feedback text, tokenizes it, and passes it through the model to generate a classification.\n",
        "# The classification output will include the predicted class label and a confidence score.\n",
        "classification = classifier(feedback)\n",
        "# Print the classification result\n",
        "# This will output the issue classification label and the confidence score generated by the model.\n",
        "print(\"Issue Classification:\", classification)"
      ],
      "metadata": {
        "colab": {
          "base_uri": "https://localhost:8080/"
        },
        "id": "5qJrW7zp8MRS",
        "outputId": "9adea047-8d41-495b-b0f7-b5c3b3a00358"
      },
      "execution_count": 32,
      "outputs": [
        {
          "output_type": "stream",
          "name": "stdout",
          "text": [
            "Issue Classification: [{'label': 'LABEL_4', 'score': 0.5499079823493958}]\n"
          ]
        }
      ]
    },
    {
      "cell_type": "code",
      "source": [
        "# Load a pre-trained Named Entity Recognition (NER) model using the pipeline function\n",
        "# The \"ner\" argument specifies that the task is Named Entity Recognition, where the model will identify entities in the text.\n",
        "# The aggregation_strategy=\"simple\" argument ensures that tokens representing the same entity are grouped together into a single entity span.\n",
        "ner = pipeline(\"ner\", aggregation_strategy=\"simple\")\n",
        "# Perform Named Entity Recognition on the feedback text\n",
        "# The ner object processes the feedback text and identifies named entities within it.\n",
        "# The result is a list of dictionaries, where each dictionary contains the identified entity, its type (e.g., PERSON, LOCATION), and its position in the text.\n",
        "entities = ner(feedback)\n",
        "# Print the identified named entities\n",
        "# This outputs the list of named entities and their corresponding types, as detected by the NER model.\n",
        "print(\"Named Entities:\", entities)\n"
      ],
      "metadata": {
        "colab": {
          "base_uri": "https://localhost:8080/"
        },
        "id": "SayYyA5r8OB0",
        "outputId": "2715ba61-1ce5-434e-e88c-60edc4419042"
      },
      "execution_count": 33,
      "outputs": [
        {
          "output_type": "stream",
          "name": "stderr",
          "text": [
            "No model was supplied, defaulted to dbmdz/bert-large-cased-finetuned-conll03-english and revision f2482bf (https://huggingface.co/dbmdz/bert-large-cased-finetuned-conll03-english).\n",
            "Using a pipeline without specifying a model name and revision in production is not recommended.\n",
            "Some weights of the model checkpoint at dbmdz/bert-large-cased-finetuned-conll03-english were not used when initializing BertForTokenClassification: ['bert.pooler.dense.bias', 'bert.pooler.dense.weight']\n",
            "- This IS expected if you are initializing BertForTokenClassification from the checkpoint of a model trained on another task or with another architecture (e.g. initializing a BertForSequenceClassification model from a BertForPreTraining model).\n",
            "- This IS NOT expected if you are initializing BertForTokenClassification from the checkpoint of a model that you expect to be exactly identical (initializing a BertForSequenceClassification model from a BertForSequenceClassification model).\n"
          ]
        },
        {
          "output_type": "stream",
          "name": "stdout",
          "text": [
            "Named Entities: []\n"
          ]
        }
      ]
    },
    {
      "cell_type": "code",
      "source": [
        "# Import the pandas library for data manipulation and analysis\n",
        "# pandas provides data structures like DataFrames to handle and analyze data efficiently.\n",
        "import pandas as pd\n",
        "\n",
        "# Create a DataFrame to store feedback analysis results\n",
        "# A DataFrame is a two-dimensional, size-mutable, and potentially heterogeneous tabular data structure with labeled axes (rows and columns).\n",
        "data = {\n",
        "    \"Feedback\": [feedback],  # Column for storing the original feedback text\n",
        "    \"Sentiment\": [sentiment[0]['label']],  # Column for storing the sentiment label derived from the sentiment analysis\n",
        "    \"Issue Category\": [classification[0]['label']],  # Column for storing the issue category label derived from the text classification\n",
        "    \"Entities\": [entities]  # Column for storing the named entities detected in the feedback text\n",
        "}\n",
        "\n",
        "# Create a DataFrame using the data dictionary\n",
        "# The DataFrame will have one row with columns corresponding to the feedback, sentiment, issue category, and named entities.\n",
        "df = pd.DataFrame(data)\n",
        "\n",
        "# Print the DataFrame to display the feedback analysis results\n",
        "print(df)"
      ],
      "metadata": {
        "colab": {
          "base_uri": "https://localhost:8080/"
        },
        "id": "4ep6YOd88TW1",
        "outputId": "2dad5b58-4394-4e59-ea2d-fe592d29a63a"
      },
      "execution_count": 34,
      "outputs": [
        {
          "output_type": "stream",
          "name": "stdout",
          "text": [
            "                                            Feedback Sentiment Issue Category  \\\n",
            "0  I’m really disappointed with the delivery time...  NEGATIVE        LABEL_4   \n",
            "\n",
            "  Entities  \n",
            "0       []  \n"
          ]
        }
      ]
    },
    {
      "cell_type": "code",
      "source": [
        "import matplotlib.pyplot as plt\n",
        "\n",
        "# Example: Plot sentiment distribution\n",
        "sentiment_counts = df['Sentiment'].value_counts()\n",
        "\n",
        "plt.figure(figsize=(8, 6))\n",
        "sentiment_counts.plot(kind='bar')\n",
        "plt.title('Sentiment Distribution')\n",
        "plt.xlabel('Sentiment')\n",
        "plt.ylabel('Count')\n",
        "plt.show()\n"
      ],
      "metadata": {
        "colab": {
          "base_uri": "https://localhost:8080/",
          "height": 619
        },
        "id": "8Ch1pLxp8WuE",
        "outputId": "552e28c2-3f7c-4568-f92c-8d30760e292d"
      },
      "execution_count": 35,
      "outputs": [
        {
          "output_type": "display_data",
          "data": {
            "text/plain": [
              "<Figure size 800x600 with 1 Axes>"
            ],
            "image/png": "[encoded data removed]"
          },
          "metadata": {}
        }
      ]
    },
    {
      "cell_type": "code",
      "source": [],
      "metadata": {
        "id": "ntUNuxo68Zus"
      },
      "execution_count": 35,
      "outputs": []
    },
    {
      "cell_type": "code",
      "source": [],
      "metadata": {
        "id": "Ft0ZrgowcmeA"
      },
      "execution_count": 35,
      "outputs": []
    },
    {
      "cell_type": "code",
      "source": [],
      "metadata": {
        "id": "TQj43fjmcmbJ"
      },
      "execution_count": 35,
      "outputs": []
    },
    {
      "cell_type": "code",
      "source": [],
      "metadata": {
        "id": "blT59yGzcmYW"
      },
      "execution_count": 35,
      "outputs": []
    },
    {
      "cell_type": "code",
      "source": [],
      "metadata": {
        "id": "M1GuRKCtcmVT"
      },
      "execution_count": 35,
      "outputs": []
    },
    {
      "cell_type": "markdown",
      "source": [
        "Setup Environment:"
      ],
      "metadata": {
        "id": "fr9BR_3Ic5s2"
      }
    },
    {
      "cell_type": "code",
      "source": [
        "pip install transformers datasets tokenizers pandas numpy scikit-learn matplotlib nltk spacy\n"
      ],
      "metadata": {
        "colab": {
          "base_uri": "https://localhost:8080/"
        },
        "id": "qfSxh7NCcmSe",
        "outputId": "09b90fc5-27da-44db-d486-d7e94d5b69ea"
      },
      "execution_count": 36,
      "outputs": [
        {
          "output_type": "stream",
          "name": "stdout",
          "text": [
            "Requirement already satisfied: transformers in /usr/local/lib/python3.10/dist-packages (4.42.4)\n",
            "Requirement already satisfied: datasets in /usr/local/lib/python3.10/dist-packages (2.20.0)\n",
            "Requirement already satisfied: tokenizers in /usr/local/lib/python3.10/dist-packages (0.19.1)\n",
            "Requirement already satisfied: pandas in /usr/local/lib/python3.10/dist-packages (2.1.4)\n",
            "Requirement already satisfied: numpy in /usr/local/lib/python3.10/dist-packages (1.26.4)\n",
            "Requirement already satisfied: scikit-learn in /usr/local/lib/python3.10/dist-packages (1.3.2)\n",
            "Requirement already satisfied: matplotlib in /usr/local/lib/python3.10/dist-packages (3.7.1)\n",
            "Requirement already satisfied: nltk in /usr/local/lib/python3.10/dist-packages (3.8.1)\n",
            "Requirement already satisfied: spacy in /usr/local/lib/python3.10/dist-packages (3.7.5)\n",
            "Requirement already satisfied: filelock in /usr/local/lib/python3.10/dist-packages (from transformers) (3.15.4)\n",
            "Requirement already satisfied: huggingface-hub<1.0,>=0.23.2 in /usr/local/lib/python3.10/dist-packages (from transformers) (0.23.5)\n",
            "Requirement already satisfied: packaging>=20.0 in /usr/local/lib/python3.10/dist-packages (from transformers) (24.1)\n",
            "Requirement already satisfied: pyyaml>=5.1 in /usr/local/lib/python3.10/dist-packages (from transformers) (6.0.2)\n",
            "Requirement already satisfied: regex!=2019.12.17 in /usr/local/lib/python3.10/dist-packages (from transformers) (2024.5.15)\n",
            "Requirement already satisfied: requests in /usr/local/lib/python3.10/dist-packages (from transformers) (2.32.3)\n",
            "Requirement already satisfied: safetensors>=0.4.1 in /usr/local/lib/python3.10/dist-packages (from transformers) (0.4.4)\n",
            "Requirement already satisfied: tqdm>=4.27 in /usr/local/lib/python3.10/dist-packages (from transformers) (4.66.5)\n",
            "Requirement already satisfied: pyarrow>=15.0.0 in /usr/local/lib/python3.10/dist-packages (from datasets) (17.0.0)\n",
            "Requirement already satisfied: pyarrow-hotfix in /usr/local/lib/python3.10/dist-packages (from datasets) (0.6)\n",
            "Requirement already satisfied: dill<0.3.9,>=0.3.0 in /usr/local/lib/python3.10/dist-packages (from datasets) (0.3.8)\n",
            "Requirement already satisfied: xxhash in /usr/local/lib/python3.10/dist-packages (from datasets) (3.4.1)\n",
            "Requirement already satisfied: multiprocess in /usr/local/lib/python3.10/dist-packages (from datasets) (0.70.16)\n",
            "Requirement already satisfied: fsspec<=2024.5.0,>=2023.1.0 in /usr/local/lib/python3.10/dist-packages (from fsspec[http]<=2024.5.0,>=2023.1.0->datasets) (2024.5.0)\n",
            "Requirement already satisfied: aiohttp in /usr/local/lib/python3.10/dist-packages (from datasets) (3.10.1)\n",
            "Requirement already satisfied: python-dateutil>=2.8.2 in /usr/local/lib/python3.10/dist-packages (from pandas) (2.8.2)\n",
            "Requirement already satisfied: pytz>=2020.1 in /usr/local/lib/python3.10/dist-packages (from pandas) (2024.1)\n",
            "Requirement already satisfied: tzdata>=2022.1 in /usr/local/lib/python3.10/dist-packages (from pandas) (2024.1)\n",
            "Requirement already satisfied: scipy>=1.5.0 in /usr/local/lib/python3.10/dist-packages (from scikit-learn) (1.13.1)\n",
            "Requirement already satisfied: joblib>=1.1.1 in /usr/local/lib/python3.10/dist-packages (from scikit-learn) (1.4.2)\n",
            "Requirement already satisfied: threadpoolctl>=2.0.0 in /usr/local/lib/python3.10/dist-packages (from scikit-learn) (3.5.0)\n",
            "Requirement already satisfied: contourpy>=1.0.1 in /usr/local/lib/python3.10/dist-packages (from matplotlib) (1.2.1)\n",
            "Requirement already satisfied: cycler>=0.10 in /usr/local/lib/python3.10/dist-packages (from matplotlib) (0.12.1)\n",
            "Requirement already satisfied: fonttools>=4.22.0 in /usr/local/lib/python3.10/dist-packages (from matplotlib) (4.53.1)\n",
            "Requirement already satisfied: kiwisolver>=1.0.1 in /usr/local/lib/python3.10/dist-packages (from matplotlib) (1.4.5)\n",
            "Requirement already satisfied: pillow>=6.2.0 in /usr/local/lib/python3.10/dist-packages (from matplotlib) (9.4.0)\n",
            "Requirement already satisfied: pyparsing>=2.3.1 in /usr/local/lib/python3.10/dist-packages (from matplotlib) (3.1.2)\n",
            "Requirement already satisfied: click in /usr/local/lib/python3.10/dist-packages (from nltk) (8.1.7)\n",
            "Requirement already satisfied: spacy-legacy<3.1.0,>=3.0.11 in /usr/local/lib/python3.10/dist-packages (from spacy) (3.0.12)\n",
            "Requirement already satisfied: spacy-loggers<2.0.0,>=1.0.0 in /usr/local/lib/python3.10/dist-packages (from spacy) (1.0.5)\n",
            "Requirement already satisfied: murmurhash<1.1.0,>=0.28.0 in /usr/local/lib/python3.10/dist-packages (from spacy) (1.0.10)\n",
            "Requirement already satisfied: cymem<2.1.0,>=2.0.2 in /usr/local/lib/python3.10/dist-packages (from spacy) (2.0.8)\n",
            "Requirement already satisfied: preshed<3.1.0,>=3.0.2 in /usr/local/lib/python3.10/dist-packages (from spacy) (3.0.9)\n",
            "Requirement already satisfied: thinc<8.3.0,>=8.2.2 in /usr/local/lib/python3.10/dist-packages (from spacy) (8.2.5)\n",
            "Requirement already satisfied: wasabi<1.2.0,>=0.9.1 in /usr/local/lib/python3.10/dist-packages (from spacy) (1.1.3)\n",
            "Requirement already satisfied: srsly<3.0.0,>=2.4.3 in /usr/local/lib/python3.10/dist-packages (from spacy) (2.4.8)\n",
            "Requirement already satisfied: catalogue<2.1.0,>=2.0.6 in /usr/local/lib/python3.10/dist-packages (from spacy) (2.0.10)\n",
            "Requirement already satisfied: weasel<0.5.0,>=0.1.0 in /usr/local/lib/python3.10/dist-packages (from spacy) (0.4.1)\n",
            "Requirement already satisfied: typer<1.0.0,>=0.3.0 in /usr/local/lib/python3.10/dist-packages (from spacy) (0.12.3)\n",
            "Requirement already satisfied: pydantic!=1.8,!=1.8.1,<3.0.0,>=1.7.4 in /usr/local/lib/python3.10/dist-packages (from spacy) (2.8.2)\n",
            "Requirement already satisfied: jinja2 in /usr/local/lib/python3.10/dist-packages (from spacy) (3.1.4)\n",
            "Requirement already satisfied: setuptools in /usr/local/lib/python3.10/dist-packages (from spacy) (71.0.4)\n",
            "Requirement already satisfied: langcodes<4.0.0,>=3.2.0 in /usr/local/lib/python3.10/dist-packages (from spacy) (3.4.0)\n",
            "Requirement already satisfied: aiohappyeyeballs>=2.3.0 in /usr/local/lib/python3.10/dist-packages (from aiohttp->datasets) (2.3.4)\n",
            "Requirement already satisfied: aiosignal>=1.1.2 in /usr/local/lib/python3.10/dist-packages (from aiohttp->datasets) (1.3.1)\n",
            "Requirement already satisfied: attrs>=17.3.0 in /usr/local/lib/python3.10/dist-packages (from aiohttp->datasets) (24.2.0)\n",
            "Requirement already satisfied: frozenlist>=1.1.1 in /usr/local/lib/python3.10/dist-packages (from aiohttp->datasets) (1.4.1)\n",
            "Requirement already satisfied: multidict<7.0,>=4.5 in /usr/local/lib/python3.10/dist-packages (from aiohttp->datasets) (6.0.5)\n",
            "Requirement already satisfied: yarl<2.0,>=1.0 in /usr/local/lib/python3.10/dist-packages (from aiohttp->datasets) (1.9.4)\n",
            "Requirement already satisfied: async-timeout<5.0,>=4.0 in /usr/local/lib/python3.10/dist-packages (from aiohttp->datasets) (4.0.3)\n",
            "Requirement already satisfied: typing-extensions>=3.7.4.3 in /usr/local/lib/python3.10/dist-packages (from huggingface-hub<1.0,>=0.23.2->transformers) (4.12.2)\n",
            "Requirement already satisfied: language-data>=1.2 in /usr/local/lib/python3.10/dist-packages (from langcodes<4.0.0,>=3.2.0->spacy) (1.2.0)\n",
            "Requirement already satisfied: annotated-types>=0.4.0 in /usr/local/lib/python3.10/dist-packages (from pydantic!=1.8,!=1.8.1,<3.0.0,>=1.7.4->spacy) (0.7.0)\n",
            "Requirement already satisfied: pydantic-core==2.20.1 in /usr/local/lib/python3.10/dist-packages (from pydantic!=1.8,!=1.8.1,<3.0.0,>=1.7.4->spacy) (2.20.1)\n",
            "Requirement already satisfied: six>=1.5 in /usr/local/lib/python3.10/dist-packages (from python-dateutil>=2.8.2->pandas) (1.16.0)\n",
            "Requirement already satisfied: charset-normalizer<4,>=2 in /usr/local/lib/python3.10/dist-packages (from requests->transformers) (3.3.2)\n",
            "Requirement already satisfied: idna<4,>=2.5 in /usr/local/lib/python3.10/dist-packages (from requests->transformers) (3.7)\n",
            "Requirement already satisfied: urllib3<3,>=1.21.1 in /usr/local/lib/python3.10/dist-packages (from requests->transformers) (2.0.7)\n",
            "Requirement already satisfied: certifi>=2017.4.17 in /usr/local/lib/python3.10/dist-packages (from requests->transformers) (2024.7.4)\n",
            "Requirement already satisfied: blis<0.8.0,>=0.7.8 in /usr/local/lib/python3.10/dist-packages (from thinc<8.3.0,>=8.2.2->spacy) (0.7.11)\n",
            "Requirement already satisfied: confection<1.0.0,>=0.0.1 in /usr/local/lib/python3.10/dist-packages (from thinc<8.3.0,>=8.2.2->spacy) (0.1.5)\n",
            "Requirement already satisfied: shellingham>=1.3.0 in /usr/local/lib/python3.10/dist-packages (from typer<1.0.0,>=0.3.0->spacy) (1.5.4)\n",
            "Requirement already satisfied: rich>=10.11.0 in /usr/local/lib/python3.10/dist-packages (from typer<1.0.0,>=0.3.0->spacy) (13.7.1)\n",
            "Requirement already satisfied: cloudpathlib<1.0.0,>=0.7.0 in /usr/local/lib/python3.10/dist-packages (from weasel<0.5.0,>=0.1.0->spacy) (0.18.1)\n",
            "Requirement already satisfied: smart-open<8.0.0,>=5.2.1 in /usr/local/lib/python3.10/dist-packages (from weasel<0.5.0,>=0.1.0->spacy) (7.0.4)\n",
            "Requirement already satisfied: MarkupSafe>=2.0 in /usr/local/lib/python3.10/dist-packages (from jinja2->spacy) (2.1.5)\n",
            "Requirement already satisfied: marisa-trie>=0.7.7 in /usr/local/lib/python3.10/dist-packages (from language-data>=1.2->langcodes<4.0.0,>=3.2.0->spacy) (1.2.0)\n",
            "Requirement already satisfied: markdown-it-py>=2.2.0 in /usr/local/lib/python3.10/dist-packages (from rich>=10.11.0->typer<1.0.0,>=0.3.0->spacy) (3.0.0)\n",
            "Requirement already satisfied: pygments<3.0.0,>=2.13.0 in /usr/local/lib/python3.10/dist-packages (from rich>=10.11.0->typer<1.0.0,>=0.3.0->spacy) (2.16.1)\n",
            "Requirement already satisfied: wrapt in /usr/local/lib/python3.10/dist-packages (from smart-open<8.0.0,>=5.2.1->weasel<0.5.0,>=0.1.0->spacy) (1.16.0)\n",
            "Requirement already satisfied: mdurl~=0.1 in /usr/local/lib/python3.10/dist-packages (from markdown-it-py>=2.2.0->rich>=10.11.0->typer<1.0.0,>=0.3.0->spacy) (0.1.2)\n"
          ]
        }
      ]
    },
    {
      "cell_type": "markdown",
      "source": [
        "Tokenization and Normalization using Hugging Face Tokenizers:"
      ],
      "metadata": {
        "id": "tN3gak7tc97E"
      }
    },
    {
      "cell_type": "code",
      "source": [
        "from transformers import AutoTokenizer\n",
        "# Load a pre-trained tokenizer for the BERT model\n",
        "# \"bert-base-uncased\" refers to the version of the BERT model that is uncased (i.e., it does not differentiate between uppercase and lowercase letters).\n",
        "tokenizer = AutoTokenizer.from_pretrained(\"bert-base-uncased\")\n",
        "# Define a sample feedback text for tokenization\n",
        "feedback = \"I'm really disappointed with the delivery time. The product quality was great, but the delay ruined my experience.\"\n",
        "# Tokenize the feedback text using the loaded tokenizer\n",
        "# The tokenizer converts the feedback text into a list of tokens that the model can process.\n",
        "tokens = tokenizer.tokenize(feedback)\n",
        "# Print the list of tokens obtained from the tokenization process\n",
        "# This will show how the feedback text has been broken down into individual tokens.\n",
        "print(\"Tokens:\", tokens)"
      ],
      "metadata": {
        "colab": {
          "base_uri": "https://localhost:8080/"
        },
        "id": "d0jx3ntDcspf",
        "outputId": "7ed5f441-4314-4d09-f0cb-12c43ada25eb"
      },
      "execution_count": 47,
      "outputs": [
        {
          "output_type": "stream",
          "name": "stdout",
          "text": [
            "Tokens: ['i', \"'\", 'm', 'really', 'disappointed', 'with', 'the', 'delivery', 'time', '.', 'the', 'product', 'quality', 'was', 'great', ',', 'but', 'the', 'delay', 'ruined', 'my', 'experience', '.']\n"
          ]
        }
      ]
    },
    {
      "cell_type": "markdown",
      "source": [
        "Stemming and Lemmatization using NLTK or SpaCy"
      ],
      "metadata": {
        "id": "Rs8OuaAVdBC4"
      }
    },
    {
      "cell_type": "code",
      "source": [],
      "metadata": {
        "id": "4yZmp-OOdAip"
      },
      "execution_count": 37,
      "outputs": []
    },
    {
      "cell_type": "code",
      "source": [
        "import nltk\n",
        "from nltk.stem import PorterStemmer\n",
        "from nltk.stem import WordNetLemmatizer\n",
        "\n",
        "nltk.download('wordnet')\n",
        "nltk.download('omw-1.4')\n",
        "\n",
        "stemmer = PorterStemmer()\n",
        "lemmatizer = WordNetLemmatizer()\n",
        "\n",
        "words = [\"running\", \"ran\", \"easily\", \"fairly\"]\n",
        "\n",
        "stemmed_words = [stemmer.stem(word) for word in words]\n",
        "lemmatized_words = [lemmatizer.lemmatize(word) for word in words]\n",
        "\n",
        "print(\"Stemmed Words:\", stemmed_words)\n",
        "print(\"Lemmatized Words:\", lemmatized_words)\n"
      ],
      "metadata": {
        "colab": {
          "base_uri": "https://localhost:8080/"
        },
        "id": "7ps_TDRgcsmL",
        "outputId": "e0a421b2-c68f-4bb9-de9e-43d9685a9e5b"
      },
      "execution_count": 38,
      "outputs": [
        {
          "output_type": "stream",
          "name": "stderr",
          "text": [
            "[nltk_data] Downloading package wordnet to /root/nltk_data...\n",
            "[nltk_data]   Package wordnet is already up-to-date!\n",
            "[nltk_data] Downloading package omw-1.4 to /root/nltk_data...\n"
          ]
        },
        {
          "output_type": "stream",
          "name": "stdout",
          "text": [
            "Stemmed Words: ['run', 'ran', 'easili', 'fairli']\n",
            "Lemmatized Words: ['running', 'ran', 'easily', 'fairly']\n"
          ]
        },
        {
          "output_type": "stream",
          "name": "stderr",
          "text": [
            "[nltk_data]   Package omw-1.4 is already up-to-date!\n"
          ]
        }
      ]
    },
    {
      "cell_type": "markdown",
      "source": [
        "TF-IDF Feature Extraction using Scikit-learn:"
      ],
      "metadata": {
        "id": "5XahPqjPdDzO"
      }
    },
    {
      "cell_type": "code",
      "source": [
        "from sklearn.feature_extraction.text import TfidfVectorizer\n",
        "\n",
        "feedbacks = [\n",
        "    \"The product quality is excellent.\",\n",
        "    \"Delivery time was disappointing.\",\n",
        "    \"Customer service was very helpful.\"\n",
        "]\n",
        "\n",
        "vectorizer = TfidfVectorizer()\n",
        "tfidf_matrix = vectorizer.fit_transform(feedbacks)\n",
        "\n",
        "print(\"TF-IDF Matrix:\\n\", tfidf_matrix.toarray())\n",
        "print(\"Feature Names:\", vectorizer.get_feature_names_out())\n"
      ],
      "metadata": {
        "colab": {
          "base_uri": "https://localhost:8080/"
        },
        "id": "B_KFBEMRcsjc",
        "outputId": "0c4f5567-f757-4481-8199-af97bb8947ff"
      },
      "execution_count": 39,
      "outputs": [
        {
          "output_type": "stream",
          "name": "stdout",
          "text": [
            "TF-IDF Matrix:\n",
            " [[0.         0.         0.         0.4472136  0.         0.4472136\n",
            "  0.4472136  0.4472136  0.         0.4472136  0.         0.\n",
            "  0.        ]\n",
            " [0.         0.52863461 0.52863461 0.         0.         0.\n",
            "  0.         0.         0.         0.         0.52863461 0.\n",
            "  0.40204024]\n",
            " [0.46735098 0.         0.         0.         0.46735098 0.\n",
            "  0.         0.         0.46735098 0.         0.         0.46735098\n",
            "  0.35543247]]\n",
            "Feature Names: ['customer' 'delivery' 'disappointing' 'excellent' 'helpful' 'is'\n",
            " 'product' 'quality' 'service' 'the' 'time' 'very' 'was']\n"
          ]
        }
      ]
    },
    {
      "cell_type": "markdown",
      "source": [
        "Embeddings using BERT for converting feedback into dense vector representations"
      ],
      "metadata": {
        "id": "gbDj0RiDdGm5"
      }
    },
    {
      "cell_type": "code",
      "source": [
        "from transformers import AutoModel, AutoTokenizer\n",
        "\n",
        "model = AutoModel.from_pretrained(\"bert-base-uncased\")\n",
        "\n",
        "tokens = tokenizer(feedback, return_tensors=\"pt\")\n",
        "embeddings = model(**tokens).last_hidden_state\n",
        "\n",
        "print(\"Embeddings Shape:\", embeddings.shape)\n"
      ],
      "metadata": {
        "colab": {
          "base_uri": "https://localhost:8080/"
        },
        "id": "mJK3obc4csgP",
        "outputId": "b362a752-454a-4205-b069-2277da806451"
      },
      "execution_count": 40,
      "outputs": [
        {
          "output_type": "stream",
          "name": "stdout",
          "text": [
            "Embeddings Shape: torch.Size([1, 25, 768])\n"
          ]
        }
      ]
    },
    {
      "cell_type": "markdown",
      "source": [
        "Sentiment Analysis using a pre-trained BERT model:\n"
      ],
      "metadata": {
        "id": "K33Oto8KdKgK"
      }
    },
    {
      "cell_type": "code",
      "source": [
        "from transformers import pipeline\n",
        "\n",
        "sentiment_analyzer = pipeline(\"sentiment-analysis\")\n",
        "sentiment = sentiment_analyzer(feedback)\n",
        "print(\"Sentiment:\", sentiment)\n"
      ],
      "metadata": {
        "colab": {
          "base_uri": "https://localhost:8080/"
        },
        "id": "ucm2Bm2bcsdq",
        "outputId": "7ec3d647-b5f5-49c8-ddb6-a1673955876d"
      },
      "execution_count": 41,
      "outputs": [
        {
          "output_type": "stream",
          "name": "stderr",
          "text": [
            "No model was supplied, defaulted to distilbert/distilbert-base-uncased-finetuned-sst-2-english and revision af0f99b (https://huggingface.co/distilbert/distilbert-base-uncased-finetuned-sst-2-english).\n",
            "Using a pipeline without specifying a model name and revision in production is not recommended.\n"
          ]
        },
        {
          "output_type": "stream",
          "name": "stdout",
          "text": [
            "Sentiment: [{'label': 'NEGATIVE', 'score': 0.9996825456619263}]\n"
          ]
        }
      ]
    },
    {
      "cell_type": "markdown",
      "source": [
        "Issue Classification using a fine-tuned model:"
      ],
      "metadata": {
        "id": "OUOAswztdQ3Y"
      }
    },
    {
      "cell_type": "code",
      "source": [
        "# Use a pipeline as a high-level helper\n",
        "from transformers import pipeline\n",
        "\n",
        "pipe = pipeline(\"text-classification\", model=\"jxuhf/Fine-tuning-text-classification-model-Habana-Gaudi\")"
      ],
      "metadata": {
        "id": "JXG-IF2LgJeM"
      },
      "execution_count": 42,
      "outputs": []
    },
    {
      "cell_type": "code",
      "source": [
        "# Load model directly\n",
        "from transformers import AutoTokenizer, AutoModelForSequenceClassification\n",
        "\n",
        "tokenizer = AutoTokenizer.from_pretrained(\"jxuhf/Fine-tuning-text-classification-model-Habana-Gaudi\")\n",
        "model = AutoModelForSequenceClassification.from_pretrained(\"jxuhf/Fine-tuning-text-classification-model-Habana-Gaudi\")"
      ],
      "metadata": {
        "id": "megBMW5MgNE1"
      },
      "execution_count": 43,
      "outputs": []
    },
    {
      "cell_type": "code",
      "source": [
        "classifier = pipeline(\"text-classification\", model=\"jxuhf/Fine-tuning-text-classification-model-Habana-Gaudi\")\n",
        "classification = classifier(feedback)\n",
        "print(\"Issue Classification:\", classification)\n"
      ],
      "metadata": {
        "colab": {
          "base_uri": "https://localhost:8080/"
        },
        "id": "QhtmIrDCcsZ5",
        "outputId": "48390409-d8ee-40db-f129-6d43da86645b"
      },
      "execution_count": 44,
      "outputs": [
        {
          "output_type": "stream",
          "name": "stdout",
          "text": [
            "Issue Classification: [{'label': 'not_equivalent', 'score': 0.9537868499755859}]\n"
          ]
        }
      ]
    },
    {
      "cell_type": "markdown",
      "source": [
        "Named Entity Recognition (NER) using a BERT-based NER model:"
      ],
      "metadata": {
        "id": "DDM0HRLddWXC"
      }
    },
    {
      "cell_type": "code",
      "source": [
        "ner = pipeline(\"ner\", aggregation_strategy=\"simple\")\n",
        "entities = ner(feedback)\n",
        "print(\"Named Entities:\", entities)"
      ],
      "metadata": {
        "colab": {
          "base_uri": "https://localhost:8080/"
        },
        "id": "SzdPoRx6dZcD",
        "outputId": "377eb769-043d-4abe-dede-63657b9da48f"
      },
      "execution_count": 45,
      "outputs": [
        {
          "output_type": "stream",
          "name": "stderr",
          "text": [
            "No model was supplied, defaulted to dbmdz/bert-large-cased-finetuned-conll03-english and revision f2482bf (https://huggingface.co/dbmdz/bert-large-cased-finetuned-conll03-english).\n",
            "Using a pipeline without specifying a model name and revision in production is not recommended.\n",
            "Some weights of the model checkpoint at dbmdz/bert-large-cased-finetuned-conll03-english were not used when initializing BertForTokenClassification: ['bert.pooler.dense.bias', 'bert.pooler.dense.weight']\n",
            "- This IS expected if you are initializing BertForTokenClassification from the checkpoint of a model trained on another task or with another architecture (e.g. initializing a BertForSequenceClassification model from a BertForPreTraining model).\n",
            "- This IS NOT expected if you are initializing BertForTokenClassification from the checkpoint of a model that you expect to be exactly identical (initializing a BertForSequenceClassification model from a BertForSequenceClassification model).\n"
          ]
        },
        {
          "output_type": "stream",
          "name": "stdout",
          "text": [
            "Named Entities: []\n"
          ]
        }
      ]
    },
    {
      "cell_type": "markdown",
      "source": [
        "Post-Processing and Insights Generation:\n",
        "Aggregation of results and visualization:"
      ],
      "metadata": {
        "id": "37qbqNcZdcro"
      }
    },
    {
      "cell_type": "code",
      "source": [
        "import pandas as pd\n",
        "import matplotlib.pyplot as plt\n",
        "\n",
        "data = {\n",
        "    \"Feedback\": [feedback],\n",
        "    \"Sentiment\": [sentiment[0]['label']],\n",
        "    \"Issue Category\": [classification[0]['label']],\n",
        "    \"Entities\": [entities]\n",
        "}\n",
        "\n",
        "df = pd.DataFrame(data)\n",
        "\n",
        "sentiment_counts = df['Sentiment'].value_counts()\n",
        "sentiment_counts.plot(kind='bar', title='Sentiment Distribution')\n",
        "plt.show()\n"
      ],
      "metadata": {
        "colab": {
          "base_uri": "https://localhost:8080/",
          "height": 527
        },
        "id": "r5bt4uAHdaKz",
        "outputId": "2dbdd151-38be-4f61-f4b4-7465713926a2"
      },
      "execution_count": 46,
      "outputs": [
        {
          "output_type": "display_data",
          "data": {
            "text/plain": [
              "<Figure size 640x480 with 1 Axes>"
            ],
            "image/png": "[encoded data removed]"
          },
          "metadata": {}
        }
      ]
    },
    {
      "cell_type": "code",
      "source": [],
      "metadata": {
        "id": "hrxN4BU8daHw"
      },
      "execution_count": 46,
      "outputs": []
    },
    {
      "cell_type": "code",
      "source": [],
      "metadata": {
        "id": "TSr7UkZQdaEt"
      },
      "execution_count": 46,
      "outputs": []
    },
    {
      "cell_type": "code",
      "source": [],
      "metadata": {
        "id": "0x5r0bj-dZ97"
      },
      "execution_count": 46,
      "outputs": []
    }
  ]
}